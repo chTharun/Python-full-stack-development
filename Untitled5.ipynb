{
  "nbformat": 4,
  "nbformat_minor": 0,
  "metadata": {
    "colab": {
      "name": "Untitled5.ipynb",
      "provenance": [],
      "authorship_tag": "ABX9TyMGDs3KJARWpE3o5zcTy/cY",
      "include_colab_link": true
    },
    "kernelspec": {
      "name": "python3",
      "display_name": "Python 3"
    },
    "language_info": {
      "name": "python"
    }
  },
  "cells": [
    {
      "cell_type": "markdown",
      "metadata": {
        "id": "view-in-github",
        "colab_type": "text"
      },
      "source": [
        "<a href=\"https://colab.research.google.com/github/chTharun/Python-full-stack-development/blob/main/Untitled5.ipynb\" target=\"_parent\"><img src=\"https://colab.research.google.com/assets/colab-badge.svg\" alt=\"Open In Colab\"/></a>"
      ]
    },
    {
      "cell_type": "code",
      "execution_count": 1,
      "metadata": {
        "colab": {
          "base_uri": "https://localhost:8080/"
        },
        "id": "AEahss2bEnmr",
        "outputId": "5824496e-8fe1-460c-b8c4-e2b03ab8ca42"
      },
      "outputs": [
        {
          "output_type": "stream",
          "name": "stdout",
          "text": [
            "{3, 5, 'S', 'D', 9, 12, 'A', 'R', 'N', 'K', 'I'}\n"
          ]
        }
      ],
      "source": [
        "my_set=set()\n",
        "my_set.update([9,12])\n",
        "my_set.update((3,5))\n",
        "my_set.update(\"SIKANDAR\")\n",
        "print(my_set)"
      ]
    },
    {
      "cell_type": "code",
      "source": [
        ""
      ],
      "metadata": {
        "id": "BWNn9jXhKrdg"
      },
      "execution_count": null,
      "outputs": []
    },
    {
      "cell_type": "code",
      "source": [
        "my_set=set(\"apple\")\n",
        "print('a'in my_set)\n",
        "print('p' not in my_set)"
      ],
      "metadata": {
        "colab": {
          "base_uri": "https://localhost:8080/"
        },
        "id": "DuMZAnFrGvN4",
        "outputId": "7162f7f5-75e3-4ddd-d519-c452a9ab818c"
      },
      "execution_count": 2,
      "outputs": [
        {
          "output_type": "stream",
          "name": "stdout",
          "text": [
            "True\n",
            "False\n"
          ]
        }
      ]
    },
    {
      "cell_type": "code",
      "source": [
        "A={1,2,3,4,5}\n",
        "B={4,5,6,7,8}\n",
        "print('union      =',A|B)\n",
        "print('intersection            =',A&B)\n",
        "print('difference    =',A-B)\n",
        "print('symmetric Diff  =',A^B)"
      ],
      "metadata": {
        "colab": {
          "base_uri": "https://localhost:8080/"
        },
        "id": "oHmfcJ5YIAM_",
        "outputId": "13f63073-2c17-4724-a158-2c60cbc4a8ef"
      },
      "execution_count": 3,
      "outputs": [
        {
          "output_type": "stream",
          "name": "stdout",
          "text": [
            "union      = {1, 2, 3, 4, 5, 6, 7, 8}\n",
            "intersection            = {4, 5}\n",
            "difference    = {1, 2, 3}\n",
            "symmetric Diff  = {1, 2, 3, 6, 7, 8}\n"
          ]
        }
      ]
    },
    {
      "cell_type": "code",
      "source": [
        "studentlist={'danish','nags','aisha','aabid','inshall','mubeen','lachhu'}\n",
        "placedlist=[\"inshall\",\"nags\",\"aisha\"]\n",
        "notplacedstudlist=set(studentlist)-set(placedlist)\n",
        "print(\"students yet to get job \\n\",notplacedstudlist)"
      ],
      "metadata": {
        "colab": {
          "base_uri": "https://localhost:8080/"
        },
        "id": "OuCI-nm6N35r",
        "outputId": "fbff681b-1568-4b63-834d-076f938ce73c"
      },
      "execution_count": 5,
      "outputs": [
        {
          "output_type": "stream",
          "name": "stdout",
          "text": [
            "students yet to get job \n",
            " {'mubeen', 'lachhu', 'aabid', 'danish'}\n"
          ]
        }
      ]
    },
    {
      "cell_type": "code",
      "source": [
        "numbers={1,2,3,4,5,6,7,8,9,10}\n",
        "odd={1,3,5,7,9}\n",
        "even={2,4,6,8,10}\n",
        "print(odd.isdisjoint(even))\n",
        "print(numbers.issuperset(odd))\n",
        "print(odd.issuperset(numbers))\n",
        "print(odd.issubset(numbers))\n"
      ],
      "metadata": {
        "colab": {
          "base_uri": "https://localhost:8080/"
        },
        "id": "WWpJfIUOTOwm",
        "outputId": "805d6983-b318-488c-b7ef-396c8f2b3371"
      },
      "execution_count": 7,
      "outputs": [
        {
          "output_type": "stream",
          "name": "stdout",
          "text": [
            "True\n",
            "True\n",
            "False\n",
            "True\n"
          ]
        }
      ]
    }
  ]
}